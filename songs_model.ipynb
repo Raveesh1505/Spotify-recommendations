{
 "cells": [
  {
   "cell_type": "markdown",
   "id": "2c396a59",
   "metadata": {},
   "source": [
    "# Spotify logistic regression\n",
    "\n",
    "As we can see, our extracted dataset is clearly classified and sorted. Hence moving forward, we will be applying “PredictIve Analysis” in order to forecast whether the song which user will be inputting is of their match to not. As we can see with our data - our prediction will have only 2 possible outcomes, wether the person will like the song or not (1 or 0). This will be determined upon set of independent variables provided in the dataset. Hence, it is wise to use “Logistic Regression” for your model."
   ]
  },
  {
   "cell_type": "code",
   "execution_count": 2,
   "id": "9eea7d1b",
   "metadata": {},
   "outputs": [],
   "source": [
    "# Importing necessary modules\n",
    "from pyspark.sql import SparkSession \n",
    "from pyspark.mllib.stat import Statistics\n",
    "import pyspark.sql.functions as fun\n",
    "import matplotlib.pyplot as plt\n",
    "from pyspark.ml.feature import VectorAssembler, StringIndexer, StandardScaler\n",
    "from pyspark.ml import Pipeline\n",
    "from sklearn.metrics import confusion_matrix\n",
    "from pyspark.ml.classification import LogisticRegression\n",
    "from sklearn.metrics import accuracy_score\n",
    "import os, sys\n",
    "import seaborn as sns"
   ]
  },
  {
   "cell_type": "code",
   "execution_count": 3,
   "id": "7b5de23d",
   "metadata": {},
   "outputs": [
    {
     "name": "stderr",
     "output_type": "stream",
     "text": [
      "23/07/16 11:37:14 WARN Utils: Your hostname, Raveeshs-MacBook-Pro.local resolves to a loopback address: 127.0.0.1; using 172.20.10.2 instead (on interface en0)\n",
      "23/07/16 11:37:14 WARN Utils: Set SPARK_LOCAL_IP if you need to bind to another address\n",
      "Setting default log level to \"WARN\".\n",
      "To adjust logging level use sc.setLogLevel(newLevel). For SparkR, use setLogLevel(newLevel).\n",
      "23/07/16 11:37:14 WARN NativeCodeLoader: Unable to load native-hadoop library for your platform... using builtin-java classes where applicable\n"
     ]
    }
   ],
   "source": [
    "# Creating a spark session\n",
    "spark = SparkSession.builder.master(\"local[2]\").appName(\"Spotify_LogisticRegression\").getOrCreate()"
   ]
  },
  {
   "cell_type": "code",
   "execution_count": 4,
   "id": "c958ab6a",
   "metadata": {},
   "outputs": [
    {
     "data": {
      "text/html": [
       "\n",
       "            <div>\n",
       "                <p><b>SparkSession - in-memory</b></p>\n",
       "                \n",
       "        <div>\n",
       "            <p><b>SparkContext</b></p>\n",
       "\n",
       "            <p><a href=\"http://172.20.10.2:4040\">Spark UI</a></p>\n",
       "\n",
       "            <dl>\n",
       "              <dt>Version</dt>\n",
       "                <dd><code>v3.4.1</code></dd>\n",
       "              <dt>Master</dt>\n",
       "                <dd><code>local[2]</code></dd>\n",
       "              <dt>AppName</dt>\n",
       "                <dd><code>Spotify_LogisticRegression</code></dd>\n",
       "            </dl>\n",
       "        </div>\n",
       "        \n",
       "            </div>\n",
       "        "
      ],
      "text/plain": [
       "<pyspark.sql.session.SparkSession at 0x280daa490>"
      ]
     },
     "execution_count": 4,
     "metadata": {},
     "output_type": "execute_result"
    }
   ],
   "source": [
    "spark"
   ]
  },
  {
   "cell_type": "code",
   "execution_count": 5,
   "id": "7d8f0411",
   "metadata": {},
   "outputs": [],
   "source": [
    "# Reading the data using spark csv read.\n",
    "# Setting inferSchema = True. This will help intelligently\n",
    "# reading the datatypes of all the columns from the csv file itself \n",
    "df = spark.read.csv(\"songs_data.csv\", header=True, inferSchema=True)"
   ]
  },
  {
   "cell_type": "code",
   "execution_count": 6,
   "id": "acfa2b48",
   "metadata": {},
   "outputs": [
    {
     "name": "stdout",
     "output_type": "stream",
     "text": [
      "+---+------------+------+---+--------+----+-----------+------------+----------------+--------+-------+-------+--------------+\n",
      "|_c0|danceability|energy|key|loudness|mode|speechiness|acousticness|instrumentalness|liveness|valence|  tempo|liked/disliked|\n",
      "+---+------------+------+---+--------+----+-----------+------------+----------------+--------+-------+-------+--------------+\n",
      "|  1|       0.652| 0.557|1.0|  -5.714| 0.0|     0.0318|        0.74|             0.0|   0.124|  0.483|150.073|             1|\n",
      "|  2|       0.624| 0.632|1.0| -13.824| 1.0|     0.0534|     0.00517|           0.658|    0.15|  0.334|132.001|             1|\n",
      "|  3|       0.552| 0.531|7.0|  -7.732| 1.0|     0.0421|       0.241|         1.21E-5|   0.122|  0.438|144.946|             1|\n",
      "|  4|       0.628| 0.698|6.0|  -5.608| 0.0|      0.105|      0.0472|         0.00143|  0.0907|  0.732| 89.976|             1|\n",
      "|  5|       0.496| 0.863|9.0|  -4.153| 1.0|     0.0381|      0.0046|             0.0|   0.639|  0.243|110.018|             1|\n",
      "+---+------------+------+---+--------+----+-----------+------------+----------------+--------+-------+-------+--------------+\n",
      "only showing top 5 rows\n",
      "\n"
     ]
    },
    {
     "name": "stderr",
     "output_type": "stream",
     "text": [
      "23/07/16 11:37:23 WARN CSVHeaderChecker: CSV header does not conform to the schema.\n",
      " Header: , danceability, energy, key, loudness, mode, speechiness, acousticness, instrumentalness, liveness, valence, tempo, liked/disliked\n",
      " Schema: _c0, danceability, energy, key, loudness, mode, speechiness, acousticness, instrumentalness, liveness, valence, tempo, liked/disliked\n",
      "Expected: _c0 but found: \n",
      "CSV file: file:///Users/raveeshyadav/GitHub/Spotify-recommendations/songs_data.csv\n"
     ]
    }
   ],
   "source": [
    "df.show(5)"
   ]
  },
  {
   "cell_type": "code",
   "execution_count": 7,
   "id": "02b74990",
   "metadata": {},
   "outputs": [
    {
     "name": "stdout",
     "output_type": "stream",
     "text": [
      "+------------+------+---+--------+----+-----------+------------+----------------+--------+-------+-------+--------------+\n",
      "|danceability|energy|key|loudness|mode|speechiness|acousticness|instrumentalness|liveness|valence|  tempo|liked/disliked|\n",
      "+------------+------+---+--------+----+-----------+------------+----------------+--------+-------+-------+--------------+\n",
      "|       0.652| 0.557|1.0|  -5.714| 0.0|     0.0318|        0.74|             0.0|   0.124|  0.483|150.073|             1|\n",
      "|       0.624| 0.632|1.0| -13.824| 1.0|     0.0534|     0.00517|           0.658|    0.15|  0.334|132.001|             1|\n",
      "|       0.552| 0.531|7.0|  -7.732| 1.0|     0.0421|       0.241|         1.21E-5|   0.122|  0.438|144.946|             1|\n",
      "|       0.628| 0.698|6.0|  -5.608| 0.0|      0.105|      0.0472|         0.00143|  0.0907|  0.732| 89.976|             1|\n",
      "|       0.496| 0.863|9.0|  -4.153| 1.0|     0.0381|      0.0046|             0.0|   0.639|  0.243|110.018|             1|\n",
      "+------------+------+---+--------+----+-----------+------------+----------------+--------+-------+-------+--------------+\n",
      "only showing top 5 rows\n",
      "\n"
     ]
    }
   ],
   "source": [
    "# First column is a repeat of number of rows. Hence removing it\n",
    "df = df.drop(fun.col(\"_c0\"))\n",
    "df.show(5)"
   ]
  },
  {
   "cell_type": "code",
   "execution_count": 8,
   "id": "7f35a8c5",
   "metadata": {},
   "outputs": [
    {
     "name": "stdout",
     "output_type": "stream",
     "text": [
      "root\n",
      " |-- danceability: double (nullable = true)\n",
      " |-- energy: double (nullable = true)\n",
      " |-- key: double (nullable = true)\n",
      " |-- loudness: double (nullable = true)\n",
      " |-- mode: double (nullable = true)\n",
      " |-- speechiness: double (nullable = true)\n",
      " |-- acousticness: double (nullable = true)\n",
      " |-- instrumentalness: double (nullable = true)\n",
      " |-- liveness: double (nullable = true)\n",
      " |-- valence: double (nullable = true)\n",
      " |-- tempo: double (nullable = true)\n",
      " |-- liked/disliked: integer (nullable = true)\n",
      "\n"
     ]
    }
   ],
   "source": [
    "# Printing the schema of our read dataset\n",
    "df.printSchema()"
   ]
  },
  {
   "cell_type": "code",
   "execution_count": 9,
   "id": "e61fb188",
   "metadata": {},
   "outputs": [
    {
     "name": "stderr",
     "output_type": "stream",
     "text": [
      "23/07/16 11:37:26 WARN package: Truncated the string representation of a plan since it was too large. This behavior can be adjusted by setting 'spark.sql.debug.maxToStringFields'.\n"
     ]
    },
    {
     "name": "stdout",
     "output_type": "stream",
     "text": [
      "+-------+-------------------+------------------+------------------+------------------+------------------+-------------------+-------------------+--------------------+-------------------+-------------------+------------------+\n",
      "|summary|       danceability|            energy|               key|          loudness|              mode|        speechiness|       acousticness|    instrumentalness|           liveness|            valence|             tempo|\n",
      "+-------+-------------------+------------------+------------------+------------------+------------------+-------------------+-------------------+--------------------+-------------------+-------------------+------------------+\n",
      "|  count|                135|               135|               135|               135|               135|                135|                135|                 135|                135|                135|               135|\n",
      "|   mean| 0.6131037037037037|0.5853296296296296|  5.42962962962963|-7.641081481481482|0.4740740740740741| 0.0710474074074074| 0.3488285185185186|0.034813517259259276|0.18639555555555554|  0.509948888888889|116.81168888888892|\n",
      "| stddev|0.14537456890628317|0.2092100027124335|3.5566644207881932| 4.009150473998447|0.5011870927455842|0.08847826769986292|0.32092945501762266|  0.1543590885034453| 0.1451698130017573|0.23528616519536016|29.915333448506356|\n",
      "|    min|              0.224|            0.0825|               0.0|           -20.637|               0.0|             0.0241|            2.32E-4|                 0.0|              0.046|              0.064|            69.719|\n",
      "|    max|              0.951|             0.965|              11.0|            -2.097|               1.0|              0.954|              0.989|               0.984|              0.949|              0.963|            200.01|\n",
      "+-------+-------------------+------------------+------------------+------------------+------------------+-------------------+-------------------+--------------------+-------------------+-------------------+------------------+\n",
      "\n"
     ]
    }
   ],
   "source": [
    "# All columns except the last column act as features of our dataset. Hence,\n",
    "# taking an insight of all the columns.\n",
    "df.select(\"danceability\", \"energy\", \"key\", \"loudness\", \"mode\", \"speechiness\", \"acousticness\", \"instrumentalness\", \"liveness\", \"valence\", \"tempo\").describe().show()"
   ]
  },
  {
   "cell_type": "code",
   "execution_count": 10,
   "id": "12f1a319",
   "metadata": {},
   "outputs": [
    {
     "name": "stdout",
     "output_type": "stream",
     "text": [
      "+------------+------+---+--------+----+-----------+------------+----------------+--------+-------+-----+--------------+\n",
      "|danceability|energy|key|loudness|mode|speechiness|acousticness|instrumentalness|liveness|valence|tempo|liked/disliked|\n",
      "+------------+------+---+--------+----+-----------+------------+----------------+--------+-------+-----+--------------+\n",
      "|           2|     2|  2|       2|   2|          2|           2|               2|       2|      2|    2|             0|\n",
      "+------------+------+---+--------+----+-----------+------------+----------------+--------+-------+-----+--------------+\n",
      "\n"
     ]
    }
   ],
   "source": [
    "# Checking whether the dataset contains any null values or not. Anykind of null values\n",
    "# in the dataset can cause discrepancy in the model leading to lower accuracy.\n",
    "\n",
    "df.agg(*[fun.count(fun.when(fun.isnull(column),column)).alias(column)for column in df.columns]).show()"
   ]
  },
  {
   "cell_type": "code",
   "execution_count": 11,
   "id": "f5377506",
   "metadata": {},
   "outputs": [],
   "source": [
    "# The above result shows that there are null values in our dataset. Hence, we will remove them\n",
    "df = df.na.drop()"
   ]
  },
  {
   "cell_type": "code",
   "execution_count": 12,
   "id": "ed1248cb",
   "metadata": {},
   "outputs": [
    {
     "name": "stdout",
     "output_type": "stream",
     "text": [
      "+------------+------+---+--------+----+-----------+------------+----------------+--------+-------+-----+--------------+\n",
      "|danceability|energy|key|loudness|mode|speechiness|acousticness|instrumentalness|liveness|valence|tempo|liked/disliked|\n",
      "+------------+------+---+--------+----+-----------+------------+----------------+--------+-------+-----+--------------+\n",
      "|           0|     0|  0|       0|   0|          0|           0|               0|       0|      0|    0|             0|\n",
      "+------------+------+---+--------+----+-----------+------------+----------------+--------+-------+-----+--------------+\n",
      "\n"
     ]
    }
   ],
   "source": [
    "# Re-checking null values\n",
    "\n",
    "df.agg(*[fun.count(fun.when(fun.isnull(column),column)).alias(column)for column in df.columns]).show()"
   ]
  },
  {
   "cell_type": "code",
   "execution_count": 13,
   "id": "345d8246",
   "metadata": {},
   "outputs": [],
   "source": [
    "# Selecting the feature columns from the dataset\n",
    "feature_names = df.columns[:-1]"
   ]
  },
  {
   "cell_type": "code",
   "execution_count": 14,
   "id": "95bb9770",
   "metadata": {},
   "outputs": [],
   "source": [
    "# Calling VectorAssembler. This creates a single vector columns of all the feature\n",
    "# columns seleceted in above cell\n",
    "assembler = VectorAssembler(inputCols=feature_names, outputCol=\"features\")\n",
    "output = assembler.transform(df).select(\"features\",\"liked/disliked\")"
   ]
  },
  {
   "cell_type": "code",
   "execution_count": 15,
   "id": "07a98f91",
   "metadata": {},
   "outputs": [
    {
     "name": "stdout",
     "output_type": "stream",
     "text": [
      "+--------------------+--------------+\n",
      "|            features|liked/disliked|\n",
      "+--------------------+--------------+\n",
      "|[0.652,0.557,1.0,...|             1|\n",
      "|[0.624,0.632,1.0,...|             1|\n",
      "|[0.552,0.531,7.0,...|             1|\n",
      "|[0.628,0.698,6.0,...|             1|\n",
      "|[0.496,0.863,9.0,...|             1|\n",
      "+--------------------+--------------+\n",
      "only showing top 5 rows\n",
      "\n"
     ]
    }
   ],
   "source": [
    "# Displaying top 5 rows of the finalized dataset\n",
    "output.show(5)"
   ]
  },
  {
   "cell_type": "code",
   "execution_count": 16,
   "id": "1b1df442",
   "metadata": {},
   "outputs": [],
   "source": [
    "# Splitting the data into training and testing model. This will help us \n",
    "# assess the data accurately. using 60% data for training and 40% data for testing\n",
    "\n",
    "finalDataset = output.select(\"features\", \"liked/disliked\")\n",
    "train, test = finalDataset.randomSplit([0.6,0.4])"
   ]
  },
  {
   "cell_type": "code",
   "execution_count": 17,
   "id": "5587fab1",
   "metadata": {},
   "outputs": [
    {
     "name": "stderr",
     "output_type": "stream",
     "text": [
      "23/07/16 11:37:37 WARN InstanceBuilder: Failed to load implementation from:dev.ludovic.netlib.blas.JNIBLAS\n",
      "23/07/16 11:37:37 WARN InstanceBuilder: Failed to load implementation from:dev.ludovic.netlib.blas.VectorBLAS\n"
     ]
    }
   ],
   "source": [
    "# Preparing the model using training dataset\n",
    "model_prep = LogisticRegression(featuresCol=\"features\", labelCol=\"liked/disliked\")\n",
    "songPredictionModel = model_prep.fit(train)"
   ]
  },
  {
   "cell_type": "code",
   "execution_count": 18,
   "id": "63ffab26",
   "metadata": {},
   "outputs": [],
   "source": [
    "# Applying the trained model on test model\n",
    "train_pred = songPredictionModel.transform(test)"
   ]
  },
  {
   "cell_type": "code",
   "execution_count": 19,
   "id": "b92e1f78",
   "metadata": {},
   "outputs": [
    {
     "name": "stdout",
     "output_type": "stream",
     "text": [
      "+--------------------+--------------+--------------------+--------------------+----------+\n",
      "|            features|liked/disliked|       rawPrediction|         probability|prediction|\n",
      "+--------------------+--------------+--------------------+--------------------+----------+\n",
      "|[0.224,0.5,7.0,-1...|             0|[74.9647749238649...|           [1.0,0.0]|       0.0|\n",
      "|[0.339,0.468,10.0...|             0|[0.72623013347960...|[0.67397745677958...|       0.0|\n",
      "|[0.345,0.68,2.0,-...|             1|[336.813279209456...|           [1.0,0.0]|       0.0|\n",
      "|[0.362,0.155,0.0,...|             0|[3.12071386446198...|[0.95773913118518...|       0.0|\n",
      "|[0.379,0.0825,3.0...|             0|[-0.0820732610941...|[0.47949319462225...|       1.0|\n",
      "|[0.381,0.171,0.0,...|             0|[3.34481082558281...|[0.96593449805833...|       0.0|\n",
      "|[0.385,0.265,6.0,...|             1|[2.59701674138461...|[0.93066933524325...|       0.0|\n",
      "|[0.417,0.319,9.0,...|             0|[44.9838008927050...|           [1.0,0.0]|       0.0|\n",
      "|[0.452,0.688,0.0,...|             0|[1.22583182588926...|[0.77308821379306...|       0.0|\n",
      "|[0.46,0.566,9.0,-...|             0|[0.36913000552166...|[0.59124874037979...|       0.0|\n",
      "+--------------------+--------------+--------------------+--------------------+----------+\n",
      "only showing top 10 rows\n",
      "\n"
     ]
    }
   ],
   "source": [
    "train_pred.show(10)"
   ]
  },
  {
   "cell_type": "code",
   "execution_count": 20,
   "id": "feae5436",
   "metadata": {},
   "outputs": [
    {
     "data": {
      "text/plain": [
       "0.6666666666666666"
      ]
     },
     "execution_count": 20,
     "metadata": {},
     "output_type": "execute_result"
    }
   ],
   "source": [
    "# Checking the accuracy of our model ussing sklearn module\n",
    "\n",
    "y_true = train_pred.select(\"liked/disliked\")\n",
    "y_true = y_true.toPandas()\n",
    "#now find the predections\n",
    "y_pred = train_pred.select(\"Prediction\")\n",
    "y_pred = y_pred.toPandas()\n",
    "\n",
    "accuracy_score(y_true, y_pred)"
   ]
  },
  {
   "cell_type": "code",
   "execution_count": 21,
   "id": "15819bcc",
   "metadata": {},
   "outputs": [
    {
     "data": {
      "text/plain": [
       "array([[31,  5],\n",
       "       [13,  5]])"
      ]
     },
     "execution_count": 21,
     "metadata": {},
     "output_type": "execute_result"
    }
   ],
   "source": [
    "# Printing the confusing matrix for our model. This compare actual values with the model's predicted values\n",
    "confusion_matrix(y_true, y_pred)"
   ]
  },
  {
   "cell_type": "code",
   "execution_count": 22,
   "id": "322a845a",
   "metadata": {},
   "outputs": [
    {
     "data": {
      "image/png": "[encoded data removed]",
      "text/plain": [
       "<Figure size 432x288 with 2 Axes>"
      ]
     },
     "metadata": {
      "needs_background": "light"
     },
     "output_type": "display_data"
    }
   ],
   "source": [
    "# Printing the confusion matric on a heatmap for better visualisation\n",
    "sns.heatmap(confusion_matrix(y_true, y_pred),annot=True )\n",
    "plt.ylabel(\"Actual Labels\")\n",
    "plt.xlabel(\"Predicted Labels\")\n",
    "plt.show()"
   ]
  },
  {
   "cell_type": "code",
   "execution_count": 35,
   "id": "499efc10",
   "metadata": {},
   "outputs": [
    {
     "name": "stderr",
     "output_type": "stream",
     "text": [
      "                                                                                \r"
     ]
    }
   ],
   "source": [
    "# Saving the model for future reference. This will help us in calling the model for our streamlit interface\n",
    "songPredictionModel.save(\"songPredictionModel\")"
   ]
  }
 ],
 "metadata": {
  "kernelspec": {
   "display_name": "Python 3 (ipykernel)",
   "language": "python",
   "name": "python3"
  },
  "language_info": {
   "codemirror_mode": {
    "name": "ipython",
    "version": 3
   },
   "file_extension": ".py",
   "mimetype": "text/x-python",
   "name": "python",
   "nbconvert_exporter": "python",
   "pygments_lexer": "ipython3",
   "version": "3.9.6"
  }
 },
 "nbformat": 4,
 "nbformat_minor": 5
}
