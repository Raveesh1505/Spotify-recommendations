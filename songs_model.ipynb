{
 "cells": [
  {
   "cell_type": "markdown",
   "id": "2c396a59",
   "metadata": {},
   "source": [
    "# Spotify logistic regression\n",
    "\n",
    "As we can see, our extracted dataset is clearly classified and sorted. Hence moving forward, we will be applying “PredictIve Analysis” in order to forecast whether the song which user will be inputting is of their match to not. As we can see with our data - our prediction will have only 2 possible outcomes, wether the person will like the song or not (1 or 0). This will be determined upon set of independent variables provided in the dataset. Hence, it is wise to use “Logistic Regression” for your model."
   ]
  },
  {
   "cell_type": "code",
   "execution_count": 1,
   "id": "9eea7d1b",
   "metadata": {},
   "outputs": [],
   "source": [
    "# Importing necessary modules\n",
    "from pyspark.sql import SparkSession \n",
    "from pyspark.mllib.stat import Statistics\n",
    "import pyspark.sql.functions as fun\n",
    "import matplotlib.pyplot as plt\n",
    "from pyspark.ml.feature import VectorAssembler, StringIndexer, StandardScaler\n",
    "from pyspark.ml import Pipeline\n",
    "from sklearn.metrics import confusion_matrix\n",
    "from pyspark.ml.classification import LogisticRegression\n",
    "from sklearn.metrics import accuracy_score\n",
    "import os, sys\n",
    "import seaborn as sns"
   ]
  },
  {
   "cell_type": "code",
   "execution_count": 2,
   "id": "7b5de23d",
   "metadata": {},
   "outputs": [
    {
     "name": "stderr",
     "output_type": "stream",
     "text": [
      "23/07/18 21:47:09 WARN Utils: Your hostname, Raveeshs-MacBook-Pro.local resolves to a loopback address: 127.0.0.1; using 192.168.1.4 instead (on interface en0)\n",
      "23/07/18 21:47:09 WARN Utils: Set SPARK_LOCAL_IP if you need to bind to another address\n",
      "Setting default log level to \"WARN\".\n",
      "To adjust logging level use sc.setLogLevel(newLevel). For SparkR, use setLogLevel(newLevel).\n",
      "23/07/18 21:47:10 WARN NativeCodeLoader: Unable to load native-hadoop library for your platform... using builtin-java classes where applicable\n"
     ]
    }
   ],
   "source": [
    "# Creating a spark session\n",
    "spark = SparkSession.builder.master(\"local[2]\").appName(\"Spotify_LogisticRegression\").getOrCreate()"
   ]
  },
  {
   "cell_type": "code",
   "execution_count": 3,
   "id": "c958ab6a",
   "metadata": {},
   "outputs": [
    {
     "data": {
      "text/html": [
       "\n",
       "            <div>\n",
       "                <p><b>SparkSession - in-memory</b></p>\n",
       "                \n",
       "        <div>\n",
       "            <p><b>SparkContext</b></p>\n",
       "\n",
       "            <p><a href=\"http://192.168.1.4:4040\">Spark UI</a></p>\n",
       "\n",
       "            <dl>\n",
       "              <dt>Version</dt>\n",
       "                <dd><code>v3.4.1</code></dd>\n",
       "              <dt>Master</dt>\n",
       "                <dd><code>local[2]</code></dd>\n",
       "              <dt>AppName</dt>\n",
       "                <dd><code>Spotify_LogisticRegression</code></dd>\n",
       "            </dl>\n",
       "        </div>\n",
       "        \n",
       "            </div>\n",
       "        "
      ],
      "text/plain": [
       "<pyspark.sql.session.SparkSession at 0x173cc1430>"
      ]
     },
     "execution_count": 3,
     "metadata": {},
     "output_type": "execute_result"
    }
   ],
   "source": [
    "spark"
   ]
  },
  {
   "cell_type": "code",
   "execution_count": 4,
   "id": "7d8f0411",
   "metadata": {},
   "outputs": [],
   "source": [
    "# Reading the data using spark csv read.\n",
    "# Setting inferSchema = True. This will help intelligently\n",
    "# reading the datatypes of all the columns from the csv file itself \n",
    "df = spark.read.csv(\"songs_data.csv\", header=True, inferSchema=True)"
   ]
  },
  {
   "cell_type": "code",
   "execution_count": 5,
   "id": "acfa2b48",
   "metadata": {},
   "outputs": [
    {
     "name": "stdout",
     "output_type": "stream",
     "text": [
      "+---+------------+------+----+--------+----+-----------+------------+----------------+--------+-------+-------+--------------+\n",
      "|_c0|danceability|energy| key|loudness|mode|speechiness|acousticness|instrumentalness|liveness|valence|  tempo|liked/disliked|\n",
      "+---+------------+------+----+--------+----+-----------+------------+----------------+--------+-------+-------+--------------+\n",
      "|  1|       0.445|  0.83| 2.0|  -7.328| 1.0|     0.0454|     0.00273|           0.001|   0.131|  0.693|125.432|             1|\n",
      "|  2|       0.581| 0.424| 8.0|  -6.616| 1.0|     0.0269|       0.723|             0.0|   0.101|  0.352| 98.936|             1|\n",
      "|  3|       0.637| 0.825|11.0|  -6.612| 1.0|     0.0815|       0.352|             0.0|   0.389|  0.835| 92.029|             1|\n",
      "|  4|       0.759|  0.54| 9.0|  -6.039| 0.0|     0.0287|       0.037|             0.0|  0.0945|   0.75|116.947|             1|\n",
      "|  5|         0.5| 0.337|10.0| -15.412| 1.0|     0.0381|      0.0725|           0.772|  0.0962| 0.0393|144.116|             1|\n",
      "+---+------------+------+----+--------+----+-----------+------------+----------------+--------+-------+-------+--------------+\n",
      "only showing top 5 rows\n",
      "\n"
     ]
    },
    {
     "name": "stderr",
     "output_type": "stream",
     "text": [
      "23/07/18 21:47:19 WARN CSVHeaderChecker: CSV header does not conform to the schema.\n",
      " Header: , danceability, energy, key, loudness, mode, speechiness, acousticness, instrumentalness, liveness, valence, tempo, liked/disliked\n",
      " Schema: _c0, danceability, energy, key, loudness, mode, speechiness, acousticness, instrumentalness, liveness, valence, tempo, liked/disliked\n",
      "Expected: _c0 but found: \n",
      "CSV file: file:///Users/raveeshyadav/GitHub/Spotify-recommendations/songs_data.csv\n"
     ]
    }
   ],
   "source": [
    "df.show(5)"
   ]
  },
  {
   "cell_type": "code",
   "execution_count": 6,
   "id": "02b74990",
   "metadata": {},
   "outputs": [
    {
     "name": "stdout",
     "output_type": "stream",
     "text": [
      "+------------+------+----+--------+----+-----------+------------+----------------+--------+-------+-------+--------------+\n",
      "|danceability|energy| key|loudness|mode|speechiness|acousticness|instrumentalness|liveness|valence|  tempo|liked/disliked|\n",
      "+------------+------+----+--------+----+-----------+------------+----------------+--------+-------+-------+--------------+\n",
      "|       0.445|  0.83| 2.0|  -7.328| 1.0|     0.0454|     0.00273|           0.001|   0.131|  0.693|125.432|             1|\n",
      "|       0.581| 0.424| 8.0|  -6.616| 1.0|     0.0269|       0.723|             0.0|   0.101|  0.352| 98.936|             1|\n",
      "|       0.637| 0.825|11.0|  -6.612| 1.0|     0.0815|       0.352|             0.0|   0.389|  0.835| 92.029|             1|\n",
      "|       0.759|  0.54| 9.0|  -6.039| 0.0|     0.0287|       0.037|             0.0|  0.0945|   0.75|116.947|             1|\n",
      "|         0.5| 0.337|10.0| -15.412| 1.0|     0.0381|      0.0725|           0.772|  0.0962| 0.0393|144.116|             1|\n",
      "+------------+------+----+--------+----+-----------+------------+----------------+--------+-------+-------+--------------+\n",
      "only showing top 5 rows\n",
      "\n"
     ]
    }
   ],
   "source": [
    "# First column is a repeat of number of rows. Hence removing it\n",
    "df = df.drop(fun.col(\"_c0\"))\n",
    "df.show(5)"
   ]
  },
  {
   "cell_type": "code",
   "execution_count": 7,
   "id": "7f35a8c5",
   "metadata": {},
   "outputs": [
    {
     "name": "stdout",
     "output_type": "stream",
     "text": [
      "root\n",
      " |-- danceability: double (nullable = true)\n",
      " |-- energy: double (nullable = true)\n",
      " |-- key: double (nullable = true)\n",
      " |-- loudness: double (nullable = true)\n",
      " |-- mode: double (nullable = true)\n",
      " |-- speechiness: double (nullable = true)\n",
      " |-- acousticness: double (nullable = true)\n",
      " |-- instrumentalness: double (nullable = true)\n",
      " |-- liveness: double (nullable = true)\n",
      " |-- valence: double (nullable = true)\n",
      " |-- tempo: double (nullable = true)\n",
      " |-- liked/disliked: integer (nullable = true)\n",
      "\n"
     ]
    }
   ],
   "source": [
    "# Printing the schema of our read dataset\n",
    "df.printSchema()"
   ]
  },
  {
   "cell_type": "code",
   "execution_count": 8,
   "id": "e61fb188",
   "metadata": {},
   "outputs": [
    {
     "name": "stderr",
     "output_type": "stream",
     "text": [
      "23/07/18 21:47:39 WARN package: Truncated the string representation of a plan since it was too large. This behavior can be adjusted by setting 'spark.sql.debug.maxToStringFields'.\n"
     ]
    },
    {
     "name": "stdout",
     "output_type": "stream",
     "text": [
      "+-------+-------------------+------------------+------------------+------------------+------------------+-------------------+-------------------+-------------------+------------------+-------------------+------------------+\n",
      "|summary|       danceability|            energy|               key|          loudness|              mode|        speechiness|       acousticness|   instrumentalness|          liveness|            valence|             tempo|\n",
      "+-------+-------------------+------------------+------------------+------------------+------------------+-------------------+-------------------+-------------------+------------------+-------------------+------------------+\n",
      "|  count|                182|               182|               182|               182|               182|                182|                182|                182|               182|                182|               182|\n",
      "|   mean| 0.6153186813186812|0.6010357142857147| 5.582417582417582|-7.281225274725274|0.5164835164835165|0.07262362637362636| 0.3610592307692308|0.03066866164835166|0.1772983516483516| 0.4970241758241759|115.84658241758238|\n",
      "| stddev|0.14091248638907378|0.1997491938160201|3.5742044946271476| 3.766559583043567|0.5011067830453756|0.08515195868883298|0.30837668405198326|0.14470536587747432|0.1358520557334032|0.23141091138824454| 29.05515780518719|\n",
      "|    min|              0.224|            0.0825|               0.0|           -20.637|               0.0|             0.0241|            2.32E-4|                0.0|             0.046|             0.0393|            69.719|\n",
      "|    max|              0.951|             0.965|              11.0|            -1.958|               1.0|              0.954|              0.989|              0.984|             0.949|              0.969|            200.01|\n",
      "+-------+-------------------+------------------+------------------+------------------+------------------+-------------------+-------------------+-------------------+------------------+-------------------+------------------+\n",
      "\n"
     ]
    }
   ],
   "source": [
    "# All columns except the last column act as features of our dataset. Hence,\n",
    "# taking an insight of all the columns.\n",
    "df.select(\"danceability\", \"energy\", \"key\", \"loudness\", \"mode\", \"speechiness\", \"acousticness\", \"instrumentalness\", \"liveness\", \"valence\", \"tempo\").describe().show()"
   ]
  },
  {
   "cell_type": "code",
   "execution_count": 9,
   "id": "12f1a319",
   "metadata": {},
   "outputs": [
    {
     "name": "stdout",
     "output_type": "stream",
     "text": [
      "+------------+------+---+--------+----+-----------+------------+----------------+--------+-------+-----+--------------+\n",
      "|danceability|energy|key|loudness|mode|speechiness|acousticness|instrumentalness|liveness|valence|tempo|liked/disliked|\n",
      "+------------+------+---+--------+----+-----------+------------+----------------+--------+-------+-----+--------------+\n",
      "|           2|     2|  2|       2|   2|          2|           2|               2|       2|      2|    2|             0|\n",
      "+------------+------+---+--------+----+-----------+------------+----------------+--------+-------+-----+--------------+\n",
      "\n"
     ]
    }
   ],
   "source": [
    "# Checking whether the dataset contains any null values or not. Anykind of null values\n",
    "# in the dataset can cause discrepancy in the model leading to lower accuracy.\n",
    "\n",
    "df.agg(*[fun.count(fun.when(fun.isnull(column),column)).alias(column)for column in df.columns]).show()"
   ]
  },
  {
   "cell_type": "code",
   "execution_count": 10,
   "id": "f5377506",
   "metadata": {},
   "outputs": [],
   "source": [
    "# The above result shows that there are null values in our dataset. Hence, we will remove them\n",
    "df = df.na.drop()"
   ]
  },
  {
   "cell_type": "code",
   "execution_count": 11,
   "id": "ed1248cb",
   "metadata": {},
   "outputs": [
    {
     "name": "stdout",
     "output_type": "stream",
     "text": [
      "+------------+------+---+--------+----+-----------+------------+----------------+--------+-------+-----+--------------+\n",
      "|danceability|energy|key|loudness|mode|speechiness|acousticness|instrumentalness|liveness|valence|tempo|liked/disliked|\n",
      "+------------+------+---+--------+----+-----------+------------+----------------+--------+-------+-----+--------------+\n",
      "|           0|     0|  0|       0|   0|          0|           0|               0|       0|      0|    0|             0|\n",
      "+------------+------+---+--------+----+-----------+------------+----------------+--------+-------+-----+--------------+\n",
      "\n"
     ]
    }
   ],
   "source": [
    "# Re-checking null values\n",
    "\n",
    "df.agg(*[fun.count(fun.when(fun.isnull(column),column)).alias(column)for column in df.columns]).show()"
   ]
  },
  {
   "cell_type": "code",
   "execution_count": 12,
   "id": "345d8246",
   "metadata": {},
   "outputs": [],
   "source": [
    "# Selecting the feature columns from the dataset\n",
    "feature_names = df.columns[:-1]"
   ]
  },
  {
   "cell_type": "code",
   "execution_count": 70,
   "id": "95bb9770",
   "metadata": {},
   "outputs": [],
   "source": [
    "# Calling VectorAssembler. This creates a single vector columns of all the feature\n",
    "# columns seleceted in above cell\n",
    "assembler = VectorAssembler(inputCols=feature_names, outputCol=\"features\")\n",
    "output = assembler.transform(df).select(\"features\",\"liked/disliked\")"
   ]
  },
  {
   "cell_type": "code",
   "execution_count": 71,
   "id": "07a98f91",
   "metadata": {},
   "outputs": [
    {
     "name": "stdout",
     "output_type": "stream",
     "text": [
      "+--------------------+--------------+\n",
      "|            features|liked/disliked|\n",
      "+--------------------+--------------+\n",
      "|[0.445,0.83,2.0,-...|             1|\n",
      "|[0.581,0.424,8.0,...|             1|\n",
      "|[0.637,0.825,11.0...|             1|\n",
      "|[0.759,0.54,9.0,-...|             1|\n",
      "|[0.5,0.337,10.0,-...|             1|\n",
      "+--------------------+--------------+\n",
      "only showing top 5 rows\n",
      "\n"
     ]
    }
   ],
   "source": [
    "# Displaying top 5 rows of the finalized dataset\n",
    "output.show(5)"
   ]
  },
  {
   "cell_type": "code",
   "execution_count": 72,
   "id": "1b1df442",
   "metadata": {},
   "outputs": [],
   "source": [
    "# Splitting the data into training and testing model. This will help us \n",
    "# assess the data accurately. using 60% data for training and 40% data for testing\n",
    "\n",
    "finalDataset = output.select(\"features\", \"liked/disliked\")\n",
    "train, test = finalDataset.randomSplit([0.6,0.4])"
   ]
  },
  {
   "cell_type": "code",
   "execution_count": 73,
   "id": "5587fab1",
   "metadata": {},
   "outputs": [],
   "source": [
    "# Preparing the model using training dataset\n",
    "model_prep = LogisticRegression(featuresCol=\"features\", labelCol=\"liked/disliked\")\n",
    "songPredictionModel = model_prep.fit(train)"
   ]
  },
  {
   "cell_type": "code",
   "execution_count": 74,
   "id": "63ffab26",
   "metadata": {},
   "outputs": [],
   "source": [
    "# Applying the trained model on test model\n",
    "train_pred = songPredictionModel.transform(test)"
   ]
  },
  {
   "cell_type": "code",
   "execution_count": 75,
   "id": "b92e1f78",
   "metadata": {},
   "outputs": [
    {
     "name": "stdout",
     "output_type": "stream",
     "text": [
      "+--------------------+--------------+--------------------+--------------------+----------+\n",
      "|            features|liked/disliked|       rawPrediction|         probability|prediction|\n",
      "+--------------------+--------------+--------------------+--------------------+----------+\n",
      "|[0.224,0.5,7.0,-1...|             0|[-2.2931864308904...|[0.09168883213610...|       1.0|\n",
      "|[0.254,0.548,4.0,...|             1|[0.01113541467506...|[0.50278382490322...|       0.0|\n",
      "|[0.272,0.473,6.0,...|             0|[-1.1420921497178...|[0.24193644689971...|       1.0|\n",
      "|[0.314,0.713,7.0,...|             1|[-2.3002309682765...|[0.09110383412858...|       1.0|\n",
      "|[0.319,0.739,0.0,...|             1|[0.69111743488654...|[0.66621545958821...|       0.0|\n",
      "|[0.339,0.468,10.0...|             0|[-0.8152122757597...|[0.30678090490486...|       1.0|\n",
      "|[0.362,0.155,0.0,...|             0|[2.32501718981993...|[0.91092786702685...|       0.0|\n",
      "|[0.379,0.0825,3.0...|             0|[0.52991551590899...|[0.62946340717891...|       0.0|\n",
      "|[0.384,0.728,7.0,...|             1|[-0.3526671395862...|[0.41273579644815...|       1.0|\n",
      "|[0.412,0.494,6.0,...|             1|[-0.9430723070322...|[0.28028016883214...|       1.0|\n",
      "+--------------------+--------------+--------------------+--------------------+----------+\n",
      "only showing top 10 rows\n",
      "\n"
     ]
    }
   ],
   "source": [
    "train_pred.show(10)"
   ]
  },
  {
   "cell_type": "code",
   "execution_count": 76,
   "id": "feae5436",
   "metadata": {},
   "outputs": [
    {
     "data": {
      "text/plain": [
       "0.5822784810126582"
      ]
     },
     "execution_count": 76,
     "metadata": {},
     "output_type": "execute_result"
    }
   ],
   "source": [
    "# Checking the accuracy of our model ussing sklearn module\n",
    "\n",
    "y_true = train_pred.select(\"liked/disliked\")\n",
    "y_true = y_true.toPandas()\n",
    "#now find the predections\n",
    "y_pred = train_pred.select(\"Prediction\")\n",
    "y_pred = y_pred.toPandas()\n",
    "\n",
    "accuracy_score(y_true, y_pred)"
   ]
  },
  {
   "cell_type": "code",
   "execution_count": 77,
   "id": "15819bcc",
   "metadata": {},
   "outputs": [
    {
     "data": {
      "text/plain": [
       "array([[22, 18],\n",
       "       [15, 24]])"
      ]
     },
     "execution_count": 77,
     "metadata": {},
     "output_type": "execute_result"
    }
   ],
   "source": [
    "# Printing the confusing matrix for our model. This compare actual values with the model's predicted values\n",
    "confusion_matrix(y_true, y_pred)"
   ]
  },
  {
   "cell_type": "code",
   "execution_count": 78,
   "id": "322a845a",
   "metadata": {},
   "outputs": [
    {
     "data": {
      "image/png": "[encoded data removed]",
      "text/plain": [
       "<Figure size 432x288 with 2 Axes>"
      ]
     },
     "metadata": {
      "needs_background": "light"
     },
     "output_type": "display_data"
    }
   ],
   "source": [
    "# Printing the confusion matric on a heatmap for better visualisation\n",
    "sns.heatmap(confusion_matrix(y_true, y_pred),annot=True )\n",
    "plt.ylabel(\"Actual Labels\")\n",
    "plt.xlabel(\"Predicted Labels\")\n",
    "plt.show()"
   ]
  },
  {
   "cell_type": "code",
   "execution_count": 79,
   "id": "499efc10",
   "metadata": {},
   "outputs": [
    {
     "name": "stderr",
     "output_type": "stream",
     "text": [
      "                                                                                \r"
     ]
    }
   ],
   "source": [
    "# Saving the model for future reference. This will help us in calling the model for our streamlit interface\n",
    "songPredictionModel.save(\"songPredictionModel\")"
   ]
  }
 ],
 "metadata": {
  "kernelspec": {
   "display_name": "Python 3 (ipykernel)",
   "language": "python",
   "name": "python3"
  },
  "language_info": {
   "codemirror_mode": {
    "name": "ipython",
    "version": 3
   },
   "file_extension": ".py",
   "mimetype": "text/x-python",
   "name": "python",
   "nbconvert_exporter": "python",
   "pygments_lexer": "ipython3",
   "version": "3.9.6"
  }
 },
 "nbformat": 4,
 "nbformat_minor": 5
}
