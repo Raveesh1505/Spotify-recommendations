{
 "cells": [
  {
   "cell_type": "code",
   "execution_count": 22,
   "metadata": {},
   "outputs": [],
   "source": [
    "# Importing libraries\n",
    "import os\n",
    "from dotenv import load_dotenv, find_dotenv\n",
    "import base64\n",
    "import requests\n",
    "import pandas as pd\n",
    "from sklearn.preprocessing import StandardScaler\n",
    "\n",
    "# Loading env variables\n",
    "load_dotenv(find_dotenv())\n",
    "CLIENT_ID = os.getenv(\"CLIENT_ID\")\n",
    "CLIENT_SECRET = os.getenv(\"CLIENT_SECRET\")\n",
    "\n",
    "# Method to get spotify token\n",
    "def getToken():\n",
    "    authString  = f\"{CLIENT_ID}:{CLIENT_SECRET}\"\n",
    "    authBytes   = authString.encode(\"utf-8\")\n",
    "    authBase64  = str(base64.b64encode(authBytes), \"utf-8\")\n",
    "\n",
    "    url = \"https://accounts.spotify.com/api/token\"\n",
    "    tokenHeaders = {\n",
    "        \"Authorization\" : f\"Basic {authBase64}\",\n",
    "        \"Content-Type\" : \"application/x-www-form-urlencoded\"\n",
    "    }\n",
    "    tokenData = {\n",
    "        \"grant_type\" : \"client_credentials\"\n",
    "    }\n",
    "    tokenResponse = requests.post(\n",
    "        url,\n",
    "        headers=tokenHeaders,\n",
    "        data=tokenData\n",
    "    )\n",
    "    tokenData   = tokenResponse.json()\n",
    "    TOKEN       = tokenData['access_token']\n",
    "    return TOKEN\n",
    "\n",
    "# Method to get song ID\n",
    "def getTrack(token, song_name, artist_name):\n",
    "    url         = \"https://api.spotify.com/v1/search\"\n",
    "    query       = f\"?q=track:{song_name}%20artist:{artist_name}&type=track&limit=1\"\n",
    "    queryURL    = url+query\n",
    "    songHeaders = {\n",
    "        \"Authorization\" : f\"Bearer {token}\"\n",
    "    }\n",
    "    songResponse = requests.get(\n",
    "        queryURL,\n",
    "        headers=songHeaders\n",
    "    )\n",
    "    songData = songResponse.json()\n",
    "    songDF   = pd.json_normalize(songData['tracks'], record_path='items')\n",
    "    if len(songDF) > 0:\n",
    "        ID = songDF['id'].iloc[0]\n",
    "        songURI = songDF['uri'].iloc[0]\n",
    "        songURI = songURI.split(':')[2]\n",
    "        return ID, songURI\n",
    "    else:\n",
    "        return False\n",
    "\n",
    "# Method to get song features\n",
    "def getSongFeatures(token, songID):\n",
    "    url = f'https://api.spotify.com/v1/audio-features?ids={songID}'\n",
    "    songFeaturesHeaders = {\n",
    "        \"Authorization\" : f\"Bearer {token}\"\n",
    "    }\n",
    "    featureResponse = requests.get(\n",
    "        url,\n",
    "        headers=songFeaturesHeaders\n",
    "    )\n",
    "    data    = featureResponse.json()\n",
    "    dataDF  = pd.json_normalize(data['audio_features'])\n",
    "    dataDF  = dataDF[['time_signature', 'danceability', 'energy', 'speechiness', 'acousticness', 'instrumentalness', 'liveness', 'valence', 'loudness', 'tempo', 'duration_ms']]\n",
    "    return dataDF"
   ]
  },
  {
   "cell_type": "code",
   "execution_count": 2,
   "metadata": {},
   "outputs": [],
   "source": [
    "token1 = getToken()"
   ]
  },
  {
   "cell_type": "code",
   "execution_count": 23,
   "metadata": {},
   "outputs": [],
   "source": [
    "t1 = getTrack(token1, 'Numb', 'Linkin Park')"
   ]
  },
  {
   "cell_type": "code",
   "execution_count": 24,
   "metadata": {},
   "outputs": [],
   "source": [
    "d = getSongFeatures(token1, t1[0])"
   ]
  },
  {
   "cell_type": "code",
   "execution_count": 25,
   "metadata": {},
   "outputs": [
    {
     "data": {
      "text/html": [
       "<div>\n",
       "<style scoped>\n",
       "    .dataframe tbody tr th:only-of-type {\n",
       "        vertical-align: middle;\n",
       "    }\n",
       "\n",
       "    .dataframe tbody tr th {\n",
       "        vertical-align: top;\n",
       "    }\n",
       "\n",
       "    .dataframe thead th {\n",
       "        text-align: right;\n",
       "    }\n",
       "</style>\n",
       "<table border=\"1\" class=\"dataframe\">\n",
       "  <thead>\n",
       "    <tr style=\"text-align: right;\">\n",
       "      <th></th>\n",
       "      <th>time_signature</th>\n",
       "      <th>danceability</th>\n",
       "      <th>energy</th>\n",
       "      <th>speechiness</th>\n",
       "      <th>acousticness</th>\n",
       "      <th>instrumentalness</th>\n",
       "      <th>liveness</th>\n",
       "      <th>valence</th>\n",
       "      <th>loudness</th>\n",
       "      <th>tempo</th>\n",
       "      <th>duration_ms</th>\n",
       "    </tr>\n",
       "  </thead>\n",
       "  <tbody>\n",
       "    <tr>\n",
       "      <th>0</th>\n",
       "      <td>4</td>\n",
       "      <td>0.496</td>\n",
       "      <td>0.863</td>\n",
       "      <td>0.0381</td>\n",
       "      <td>0.0046</td>\n",
       "      <td>0</td>\n",
       "      <td>0.639</td>\n",
       "      <td>0.243</td>\n",
       "      <td>-4.153</td>\n",
       "      <td>110.018</td>\n",
       "      <td>185587</td>\n",
       "    </tr>\n",
       "  </tbody>\n",
       "</table>\n",
       "</div>"
      ],
      "text/plain": [
       "   time_signature  danceability  energy  speechiness  acousticness  \\\n",
       "0               4         0.496   0.863       0.0381        0.0046   \n",
       "\n",
       "   instrumentalness  liveness  valence  loudness    tempo  duration_ms  \n",
       "0                 0     0.639    0.243    -4.153  110.018       185587  "
      ]
     },
     "execution_count": 25,
     "metadata": {},
     "output_type": "execute_result"
    }
   ],
   "source": [
    "d"
   ]
  },
  {
   "cell_type": "code",
   "execution_count": 20,
   "metadata": {},
   "outputs": [],
   "source": [
    "a = d.columns"
   ]
  },
  {
   "cell_type": "code",
   "execution_count": 21,
   "metadata": {},
   "outputs": [
    {
     "data": {
      "text/plain": [
       "Index(['danceability', 'energy', 'loudness', 'speechiness', 'acousticness',\n",
       "       'instrumentalness', 'liveness', 'valence', 'tempo', 'duration_ms',\n",
       "       'time_signature'],\n",
       "      dtype='object')"
      ]
     },
     "execution_count": 21,
     "metadata": {},
     "output_type": "execute_result"
    }
   ],
   "source": [
    "a"
   ]
  },
  {
   "cell_type": "code",
   "execution_count": null,
   "metadata": {},
   "outputs": [],
   "source": []
  }
 ],
 "metadata": {
  "kernelspec": {
   "display_name": "Python 3",
   "language": "python",
   "name": "python3"
  },
  "language_info": {
   "codemirror_mode": {
    "name": "ipython",
    "version": 3
   },
   "file_extension": ".py",
   "mimetype": "text/x-python",
   "name": "python",
   "nbconvert_exporter": "python",
   "pygments_lexer": "ipython3",
   "version": "3.9.6"
  }
 },
 "nbformat": 4,
 "nbformat_minor": 2
}
